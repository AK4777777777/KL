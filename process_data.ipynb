{
 "cells": [
  {
   "cell_type": "code",
   "execution_count": null,
   "id": "a5444e69",
   "metadata": {},
   "outputs": [],
   "source": [
    "from osgeo import gdal\n",
    "dem_path = 'data/original_dem/Hawaii_Island_DEM.tif'\n",
    "slope_path = 'data/slope/slope.tif'"
   ]
  },
  {
   "cell_type": "code",
   "execution_count": null,
   "id": "91d0184b",
   "metadata": {},
   "outputs": [],
   "source": [
    "import rasterio\n",
    "import matplotlib.pyplot as plt\n",
    "\n",
    "with rasterio.open(slope_path) as src:\n",
    "    slope = src.read(1)\n",
    "    plt.imshow(slope, cmap='terrain', vmin=0, vmax=90)\n",
    "    plt.colorbar(label='Slope (degrees)')\n",
    "    plt.title('Slope Raster')\n",
    "    plt.show()\n",
    "\n",
    "\n"
   ]
  }
 ],
 "metadata": {
  "kernelspec": {
   "display_name": "site_selection",
   "language": "python",
   "name": "python3"
  },
  "language_info": {
   "codemirror_mode": {
    "name": "ipython",
    "version": 3
   },
   "file_extension": ".py",
   "mimetype": "text/x-python",
   "name": "python",
   "nbconvert_exporter": "python",
   "pygments_lexer": "ipython3",
   "version": "3.13.5"
  }
 },
 "nbformat": 4,
 "nbformat_minor": 5
}
